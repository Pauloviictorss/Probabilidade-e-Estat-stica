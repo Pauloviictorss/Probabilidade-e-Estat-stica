{
  "nbformat": 4,
  "nbformat_minor": 0,
  "metadata": {
    "colab": {
      "name": "Probabilidade-e-Estatística.ipynb",
      "provenance": [],
      "authorship_tag": "ABX9TyOZ5zPRL/SObWKJrpykmQT7",
      "include_colab_link": true
    },
    "kernelspec": {
      "name": "python3",
      "display_name": "Python 3"
    }
  },
  "cells": [
    {
      "cell_type": "markdown",
      "metadata": {
        "id": "view-in-github",
        "colab_type": "text"
      },
      "source": [
        "<a href=\"https://colab.research.google.com/github/Pauloviictorss/Probabilidade-e-Estat-stica/blob/master/Probabilidade_e_Estat%C3%ADstica.ipynb\" target=\"_parent\"><img src=\"https://colab.research.google.com/assets/colab-badge.svg\" alt=\"Open In Colab\"/></a>"
      ]
    },
    {
      "cell_type": "code",
      "metadata": {
        "id": "tWY7-P8R6OI_",
        "colab_type": "code",
        "colab": {}
      },
      "source": [
        "print(\"Hi\")"
      ],
      "execution_count": null,
      "outputs": []
    }
  ]
}