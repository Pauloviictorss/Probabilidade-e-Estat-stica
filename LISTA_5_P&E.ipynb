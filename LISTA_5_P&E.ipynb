{
  "nbformat": 4,
  "nbformat_minor": 0,
  "metadata": {
    "colab": {
      "name": "LISTA.5-P&E",
      "provenance": [],
      "collapsed_sections": [],
      "authorship_tag": "ABX9TyN/0z0stxXQNqNavBRbGKvA",
      "include_colab_link": true
    },
    "kernelspec": {
      "name": "python3",
      "display_name": "Python 3"
    }
  },
  "cells": [
    {
      "cell_type": "markdown",
      "metadata": {
        "id": "view-in-github",
        "colab_type": "text"
      },
      "source": [
        "<a href=\"https://colab.research.google.com/github/Pauloviictorss/Probabilidade-e-Estat-stica/blob/master/LISTA_5_P%26E.ipynb\" target=\"_parent\"><img src=\"https://colab.research.google.com/assets/colab-badge.svg\" alt=\"Open In Colab\"/></a>"
      ]
    },
    {
      "cell_type": "code",
      "metadata": {
        "id": "O9a3ZJ0LXI2c"
      },
      "source": [
        "#Probabilidade e Estatística\n",
        "#Paulo Victor Moreira, 20214290002\n",
        "#Lista 5"
      ],
      "execution_count": null,
      "outputs": []
    },
    {
      "cell_type": "code",
      "metadata": {
        "id": "S3Doj2GiQXey"
      },
      "source": [
        "#exercício1:\n",
        "import statistics\n",
        "consumo = [10, 13, 17, 9, 8, 11, 13, 7]\n",
        "print('Média aritmética simples:', statistics.mean(consumo)) #letra A, cálculo da média simples\n",
        "print('Média harmônica:', round(8/(1/10 + 1/13 + 1/17 + 1/9 + 1/8 + 1/11 + 1/13 + 1/7),2)) #letra B, cálculo da média harmónica\n",
        "print('Média geométrica:', round((10*13*17*9*8*11*13*7)**0.125,2)) #letra C, cálculo de média geométrica\n",
        "print('Moda:', statistics.mode(consumo)) #letra D, cálculo da moda\n",
        "print('Variância:', round(statistics.variance(consumo),2)) #letra E, cálculo da variância\n",
        "print('Desvio padrão:', round(statistics.stdev(consumo),2)) #letra F, cálculo do desvio padrão\n"
      ],
      "execution_count": null,
      "outputs": []
    },
    {
      "cell_type": "code",
      "metadata": {
        "id": "y6URnmzlW_25"
      },
      "source": [
        "#exercício2:\n",
        "import statistics\n",
        "ansiedade = [67, 75, 63, 72, 77, 78, 81, 77, 80]\n",
        "print('Média aritmética simples:', round(statistics.mean(ansiedade),2)) #letra A, cálculo da média simples\n",
        "print('Média harmônica:', round(9/(1/67 + 1/75 + 1/63 + 1/72 + 1/77 + 1/78 + 1/81 + 1/77 + 1/80),2)) #letra A, cálculo da média harmónica\n",
        "print('Média geométrica:', round((67*75*63*72*77*78*81*77*80)**0.111111111, 2)) #letra A, cálculo de média geométrica\n",
        "print('Moda:', statistics.mode(ansiedade)) #letra B, cálculo de moda\n",
        "print('Mediana:', statistics.median(ansiedade)) #letra C, cálculo de mediana\n",
        "print('Variância:', round(statistics.variance(ansiedade),2)) #letra D, cálculo de variância\n",
        "print('Desvio padrão:', round(statistics.stdev(ansiedade),2)) #letra E, cálculo de desvio padrão"
      ],
      "execution_count": null,
      "outputs": []
    },
    {
      "cell_type": "code",
      "metadata": {
        "id": "JBMMtZY5XAYG"
      },
      "source": [
        "#exercício3:\n",
        "import statistics\n",
        "leite = [4.0, 6.5, 9.0, 4.5, 7.0, 9.5, 5.0, 7.0, 10.0, 5.0, 7.0, 10.0, 5.0, 7.0, 10.5, 5.5, 7.0, 10.5, 6.0, 7.0, 11.0, 6.0, 7.5, 12.0, 6.5, 8.5, 12.5, 6.5, 9.0, 13.0, 6.5, 9.0, 13.0]\n",
        "print('Coeficiente de variação:', round(statistics.stdev(leite)/statistics.mean(leite)*100, 2)) #coeficiente de variação é calculado pelo desvio padrão dividido pela média aritmética simples, round utilizado para redução de números quebrados"
      ],
      "execution_count": null,
      "outputs": []
    },
    {
      "cell_type": "code",
      "metadata": {
        "id": "KOmFEdLVXA01"
      },
      "source": [
        "#exercício4:\n",
        "import statistics\n",
        "prod = [12, 15, 18, 22, 17, 14, 18, 23, 29, 12]\n",
        "print('Média aritmética simples:', statistics.mean(prod)) #comando para executar o cálculo da média\n",
        "print('Mediana:', statistics.median(prod)) #comando para executar o cálculo da mediana \n",
        "print('Desvio padrão:', round(statistics.stdev(prod),2)) #comando para executar o cálculo do desvio padrão"
      ],
      "execution_count": null,
      "outputs": []
    },
    {
      "cell_type": "code",
      "metadata": {
        "id": "4zppJ6TIXBXd"
      },
      "source": [
        "#exercício5: não consegui desenvolver. \n",
        "import statistics\n",
        "qtd = 0 #contadores\n",
        "somanotas = 0 #contadores\n",
        "while nota != -999:\n",
        "  nota = float(input('Informe uma nota: '))\n",
        "  while nota > 10 or nota < 0:\n",
        "    nota = float(input('Insira uma nota válida: '))\n",
        "  if nota == 0:\n",
        "    break\n",
        "somanotas = somanotas + nota\n",
        "qtd = qtd + 1\n",
        "medianotas = somanotas/qtd\n",
        "print(medianotas)"
      ],
      "execution_count": null,
      "outputs": []
    },
    {
      "cell_type": "code",
      "metadata": {
        "id": "CvlBZB08XBFO"
      },
      "source": [
        "#exercício6:\n",
        "N1 = float(input('Insira a primeira nota: ')) #declaro a variável como float e peço a nota para o usuário\n",
        "\n",
        "      ###Cálculos referentes à primeira nota###\n",
        "if N1 < 0: #condição para inserção do loop. caso a variável seja menor que 0...\n",
        "  while True: #e a condição acima for verdadeira... (início do loop)\n",
        "    N1 = float(input('Primeira nota inválida. Insira uma nota VÁLIDA: ')) #pedido para confirmação da nota errada\n",
        "    if N1 >= 0.0: #caso a nota seja maior que 0, pare o loop inserido pelo while\n",
        "      break\n",
        "if N1 > 10.0: #condição para inserção do loop. caso a variável seja maior que 10...\n",
        "  while True: #e a condição acima for verdadeira... (início de um novo loop)\n",
        "    N1 = float(input('Primeira nota inválida. Insira uma nota VÁLIDA: ')) #pedido para confirmação da nota errada\n",
        "    if N1 <= 10.0: #caso a nota seja maior que 10, pare o loop inserido pelo while\n",
        "      break\n",
        "\n",
        "      ###Cálculos referentes à segunda nota###\n",
        "N2 = float(input('Insira a segunda nota: ')) #declaro a variável como float e peço a nota para o usuário\n",
        "if N2 < 0: #condição para inserção do loop. caso a variável seja menor que 0...\n",
        "  while True: #e a condição acima for verdadeira... (início do loop)\n",
        "    N2 = float(input('Segunda nota inválida. Insira uma nota VÁLIDA: ')) #pedido para confirmação da nota errada\n",
        "    if N2 >= 0.0: #caso a nota seja maior que 0, pare o loop inserido pelo while\n",
        "      break\n",
        "if N2 > 10.0: #condição para inserção do loop. caso a variável seja maior que 10...\n",
        "  while True: #e a condição acima for verdadeira... (início de um novo loop)\n",
        "    N2 = float(input('Segunda nota inválida. Insira uma nota VÁLIDA: ')) #pedido para a confirmação da nota errada\n",
        "    if N2 <= 10.0: #caso a nota seja maior que 10, pare o loop inserido pelo while\n",
        "      break\n",
        "\n",
        "      ###Cálculos referentes à terceira nota###\n",
        "N3 = float(input('Insira a terceira nota: ')) #declaro a variável como float e peço a nota para o usuário\n",
        "if N3 < 0: #condição para inserção do loop. caso a variável seja menor que 0...\n",
        "  while True: #e a condição acima for verdadeira... (início do loop)\n",
        "    N3 = float(input('Terceira nota inválida. Insira uma nota VÁLIDA: ')) #pedido para confirmação da nota errada\n",
        "    if N3 >= 0.0: #caso a nota seja maior que 0, pare o loop inserido pelo while\n",
        "      break\n",
        "if N3 > 10.0: #condição para inserção do loop. caso a variável seja maior que 10...\n",
        "  while True: #e a condição acima for verdadeira... (início de um novo loop)\n",
        "    N3 = float(input('Terceira nota inválida. Insira uma nota VÁLIDA: ')) #pedido para confirmação da nota errada\n",
        "    if N3 <= 10.0: #caso a nota seja maior que 10, pare o loop inserido pelo while\n",
        "      break\n",
        "\n",
        "\n",
        "media = (3*N1 + 4*N2 + 3*N3)/10 #cálculo para média com peso \n",
        "print(media) #print o resultado da média calculada acima"
      ],
      "execution_count": null,
      "outputs": []
    }
  ]
}