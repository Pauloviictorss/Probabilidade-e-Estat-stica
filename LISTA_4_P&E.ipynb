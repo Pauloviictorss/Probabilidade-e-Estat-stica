{
  "nbformat": 4,
  "nbformat_minor": 0,
  "metadata": {
    "colab": {
      "name": "LISTA-4-P&E.ipynb",
      "provenance": [],
      "collapsed_sections": [],
      "authorship_tag": "ABX9TyP3qwKBKPlUWYeAHND699An",
      "include_colab_link": true
    },
    "kernelspec": {
      "name": "python3",
      "display_name": "Python 3"
    }
  },
  "cells": [
    {
      "cell_type": "markdown",
      "metadata": {
        "id": "view-in-github",
        "colab_type": "text"
      },
      "source": [
        "<a href=\"https://colab.research.google.com/github/Pauloviictorss/Probabilidade-e-Estat-stica/blob/master/LISTA_4_P%26E.ipynb\" target=\"_parent\"><img src=\"https://colab.research.google.com/assets/colab-badge.svg\" alt=\"Open In Colab\"/></a>"
      ]
    },
    {
      "cell_type": "code",
      "metadata": {
        "id": "LsLJJyy6ekaR",
        "colab": {
          "base_uri": "https://localhost:8080/"
        },
        "outputId": "b0095ae3-1c6c-413a-c6fa-7a7577e428e3"
      },
      "source": [
        "#Disciplina: Probabilidade e Estatística\n",
        "#Aluno: Paulo Victor Moreira, 20214290002\n",
        "#Lista 4\n",
        "\n",
        "#Exercício1 e Exercício2:\n",
        "'''lado = int(input('Informe o número de lados: ')) #pede ao usuário o número de lados\n",
        "if lado < 3: #condição para inserir o loop\n",
        "  while True: #início do loop (caso tenha menos de 3 lados)\n",
        "    print('Não é um polígono.') #informa que um polígono deve conter 3 lados ou mais\n",
        "    lado = int(input('Informe um número VÁLIDO de lados: ')) #loop para que o usuário diga quantos lados possui o polígono desejado\n",
        "    if lado >= 3: #condição para o fim do loop\n",
        "      break #fim do loop\n",
        "if lado > 5: #condição para inserir o loop\n",
        "  while True: #início do loop (caso o polígono possua mais de 5 lados)\n",
        "    print('Polígono não identificado!') #informa que o polígono com mais de 5 lados não é identificado)\n",
        "    break #fim do loop\n",
        "if lado == 3: #se o lado for 3...\n",
        "  print('O polígono é um TRIÂNGULO!') #informe que trata-se de um triângulo\n",
        "  medida = float(input('Informe a medida dos lados em centímetros: ')) #input para pedir a medida dos lados, está em float para valores quebrados, variável para diminuir o tamanho da próxima linha\n",
        "  print('O valor de sua área é:', round(medida**2*1.73205081/4, 2)) #fórmula que usei para calcular a área, round para encurtar valores após a vírgula\n",
        "elif lado == 4: #se o lado for 4...\n",
        "  print('O polígono é um QUADRADO!') #informe que trata-se de um quadrado\n",
        "  medida = float(input('Informe a medida dos lados em centímetros: ')) #input para pedir a medida dos lados, está em float para valores quebrados, variável para diminuir o tamanho da próxima linha\n",
        "  print('O valor de sua área é:', round(medida**2,2)) #fórmula que usei para calcular a área, round para encurtar valores após a vírgula\n",
        "elif lado == 5: #se o lado for 5...\n",
        "  print('O polígono é um PENTÁGONO!') #informe que trata-se de um pentágono\n",
        "  medida = float(input('Informe a medida dos lados em centímetros: ')) #input para pedir a medida dos lados, está em float para valores quebrados, variável para diminuir o tamanho da próxima linha\n",
        "  print('O valor de sua área é:', round(3*medida**2*1.73205081/2,2)) #fórmula que usei para calcular a área, round para encurtar valores após a vírgula'''\n",
        "\n",
        "#Exercício3: \n",
        "'''V1 = int(input('Insira o primeiro valor: ')) #atribui o imput para uma variável para o primeiro valor, int pq a questão pede;\n",
        "V2 = int(input('Insira o segundo valor: ')) #atribui o imput para uma variável para o segundo valor, int pq a questão pede;\n",
        "V3 = int(input('Insira o terceiro valor: ')) #atribui o imput para uma variável para o terceiro valor, int pq a questão pede;\n",
        "if V1 > V2 > V3 or V1 > V3 > V2: #atribuí as variáveis do início para que pudesse cumprir com a condição pedida\n",
        "  print(V1) #se a primeira sentença OU a segunda forem atendidas, PRINT VALOR 1\n",
        "elif V2 > V1 > V3 or V2 > V3 > V1: #atribuí as variáveis do início para que pudesse cumprir com a condição pedida\n",
        "  print(V2) #se a primeira sentença OU a segunda forem atendidas, PRINT VALOR 2\n",
        "elif V3 > V1 > V2 or V3 > V2 > V1: #atribuí as variáveis do início para que pudesse cumprir com a condição pedida\n",
        "  print(V3) #se a primeira sentença OU a segunda forem atendidas, PRINT VALOR 3'''\n",
        "\n",
        "#Exercício4:\n",
        "'''L1 = input('Insira o valor do primeiro lado: ') #input com variável, para pedir o valor um, pois a variável será usada nas sentenças abaixo.\n",
        "L2 = input('Insira o valor do segundo lado: ') #input com variável, para pedir o valor dois, pois a variável será usada nas sentenças abaixo.\n",
        "L3 = input('Insira o valor do terceiro lado: ') #input com variável, para pedir o valor três, pois a variável será usada nas sentenças abaixo.\n",
        "if L1==L2==L3: #primeira condição, caso todos sejam iguais, print EQUILÁTERO!\n",
        "  print('Triângulo EQUILÁTERO!')\n",
        "if L1==L2!=L3 or L1==L3!=L2 or L2==L3!=L1: #segunda condição, caso um diferente e dois iguais, print ISÓSCELES!\n",
        "  print('Triângulo ISÓSCELES!')\n",
        "if L1!=L2!=L3 and L1!=L3!=L2 and L2!=L1!=L3 and L2!=L3!=L1 and L3!=L1!=L2 and L3!=L2!=L1: #terceira condição, caso todos diferentes, print ESCALENO!\n",
        "  print('Triângulo ESCALENO!')'''\n",
        "\n",
        "#Exercício5:\n",
        "'''L1 = float(input('Insira o valor do primeiro ângulo: ')) #pede para inserir o 1º ângulo, float pq pode ser valor quebrado, ex:120,5°, variável pois precisarei para formar as sentenças.\n",
        "L2 = float(input('Insira o valor do segundo ângulo: ')) #pede para inserir o 2º ângulo, float pq pode ser valor quebrado, ex:120,5°, variável pois precisarei para formar as sentenças.\n",
        "L3 = float(input('Insira o valor do terceiro ângulo: ')) #pede para inserir o 3º ângulo, float pq pode ser valor quebrado, ex:120,5°, variável pois precisarei para formar as sentenças.\n",
        "if L1==90 and L2<90 and L3<90 or L1<90 and L2==90 and L3<90 or L1<90 and L2<90 and L3==90: #3 casos possíveis, caso um seja verdadeiro, triângulo RETÂNGULO!\n",
        "  print('Triângulo RETÂNGULO!') #PRINT RESULTADO!\n",
        "elif L1<90 and L2<90 and L3<90: #3 casos possíveis, caso um seja verdadeiro, triângulo ACUTÂNGULO!\n",
        "  print('Triângulo ACUTÂNGULO!') #PRINT RESULTADO!\n",
        "elif 180>L1>90 and L2<90 and L3<90 or 180>L2>90 and L1<90 and L3<90 or 180>L3>90 and L2<90 and L1<90: #3 casos possíveis, caso um seja verdadeiro, triângulo OBTUSÂNGULO!\n",
        "  print('Triângulo OBTUSÂGULO!') #PRINT RESULTADO!'''\n",
        "\n",
        "#Exercício6:\n",
        "'''a = int(input('Insira um número: ')) #declara a variável inteira pois é pedido do exercício, input para inserir o número e declara a variável para ser usada no 'for'\n",
        "for _ in range(0,a+1): #para '_' dentro de 'a', imprima do '0' até o valor de 'a+1'\n",
        "  print(_) #print resultado'''\n",
        "\n",
        "#Exercício7:\n",
        "'''num = int(input('Insira um número entre 1 e 4: ')) #trata-se de valores inteiros, portanto uso o int, input para pedir o valor desejado e variável para ser usada nas próximas sentenças\n",
        "if num > 4 or num < 1: #primeira sentença, caso esteja fora do padrão pedido, inicie o loop\n",
        "  while True: #início do loop\n",
        "    numwrong = int(input('Insira um número VÁLIDO, entre 1 e 4: ')) #pede para inserir um valor válido\n",
        "    if numwrong >= 1 and numwrong <= 4: #se a sentença for atendida, faça:\n",
        "      print(numwrong) #o print do número inserido\n",
        "      break #o fim do loop\n",
        "else: #caso o primeiro valor inserido seja entre 1 e 4, faça:\n",
        "  print(num) #o print do número inserido'''\n",
        "\n",
        "#Exercício8: INCOMPLETO\n",
        "'''while L1 != 'zero': \n",
        "  L1 == input('Insira um valor: ')\n",
        "if L1 == 'zero':\n",
        "  break'''\n",
        "\n",
        "#Exercício 9: \n",
        "'''L1 = input('Digite um número: ') #pede o número a ser inserido\n",
        "L2 = int(L1) #transforma o L1 em int para fazer os próximos cálculos\n",
        "a = L2//1%10 #divisão de L2 por 1, o quociente é multiplicado pelo resto da divisão entre o quociente e o número 10. \n",
        "b = L2//10%10 #divisão de L2 por 10, o quociente é multiplicado pelo resto da divisão entre o quociente e o número 10.\n",
        "c = L2//100%10 #divisão de L2 por 100, o quociente é multiplicado pelo resto da divisão entre o quociente e o número 10.\n",
        "d = L2//1000%10 #divisão de L2 por 1000, o quociente é multiplicado pelo resto da divisão entre o quociente e o número 10.\n",
        "print('{} milhar!'.format(d)) #format insere o dado da var 'd' entre o conjunto vazio de chaves\n",
        "print('{} centena!'.format(c)) #format insere o dado da var 'c' entre o conjunto vazio de chaves\n",
        "print('{} dezena!'.format(b)) #format insere o dado da var 'b' entre o conjunto vazio de chaves\n",
        "print('{} unidade!'.format(a)) #format insere o dado da var 'a' entre o conjunto vazio de chaves'''"
      ],
      "execution_count": 186,
      "outputs": [
        {
          "output_type": "stream",
          "text": [
            "0\n"
          ],
          "name": "stdout"
        }
      ]
    }
  ]
}